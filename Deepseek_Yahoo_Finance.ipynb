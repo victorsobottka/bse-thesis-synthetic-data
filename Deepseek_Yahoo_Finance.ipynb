{
  "nbformat": 4,
  "nbformat_minor": 0,
  "metadata": {
    "colab": {
      "provenance": [],
      "machine_shape": "hm",
      "gpuType": "L4",
      "authorship_tag": "ABX9TyNnSUcB35zYHfymiPM+q7dy",
      "include_colab_link": true
    },
    "kernelspec": {
      "name": "python3",
      "display_name": "Python 3"
    },
    "language_info": {
      "name": "python"
    },
    "accelerator": "GPU"
  },
  "cells": [
    {
      "cell_type": "markdown",
      "metadata": {
        "id": "view-in-github",
        "colab_type": "text"
      },
      "source": [
        "<a href=\"https://colab.research.google.com/github/victorsobottka/bse-thesis-synthetic-data/blob/main/Deepseek_Yahoo_Finance.ipynb\" target=\"_parent\"><img src=\"https://colab.research.google.com/assets/colab-badge.svg\" alt=\"Open In Colab\"/></a>"
      ]
    },
    {
      "cell_type": "markdown",
      "source": [
        "# 📈Generating Synthetic Data using Deepseek - Yahoo Finance"
      ],
      "metadata": {
        "id": "_kn1OrM9g9ir"
      }
    },
    {
      "cell_type": "markdown",
      "source": [
        "## **🔧 Environment Configuration**"
      ],
      "metadata": {
        "id": "LJ-XQ-9dhZ7d"
      }
    },
    {
      "cell_type": "code",
      "execution_count": null,
      "metadata": {
        "colab": {
          "base_uri": "https://localhost:8080/"
        },
        "id": "TLv1pt64g2Kq",
        "outputId": "2411acd7-1e0e-4198-af6a-d75d9c3ca939"
      },
      "outputs": [
        {
          "output_type": "stream",
          "name": "stdout",
          "text": [
            "\u001b[2K   \u001b[90m━━━━━━━━━━━━━━━━━━━━━━━━━━━━━━━━━━━━━━━━\u001b[0m \u001b[32m363.4/363.4 MB\u001b[0m \u001b[31m3.2 MB/s\u001b[0m eta \u001b[36m0:00:00\u001b[0m\n",
            "\u001b[2K   \u001b[90m━━━━━━━━━━━━━━━━━━━━━━━━━━━━━━━━━━━━━━━━\u001b[0m \u001b[32m13.8/13.8 MB\u001b[0m \u001b[31m105.8 MB/s\u001b[0m eta \u001b[36m0:00:00\u001b[0m\n",
            "\u001b[2K   \u001b[90m━━━━━━━━━━━━━━━━━━━━━━━━━━━━━━━━━━━━━━━━\u001b[0m \u001b[32m24.6/24.6 MB\u001b[0m \u001b[31m82.2 MB/s\u001b[0m eta \u001b[36m0:00:00\u001b[0m\n",
            "\u001b[2K   \u001b[90m━━━━━━━━━━━━━━━━━━━━━━━━━━━━━━━━━━━━━━━━\u001b[0m \u001b[32m883.7/883.7 kB\u001b[0m \u001b[31m47.7 MB/s\u001b[0m eta \u001b[36m0:00:00\u001b[0m\n",
            "\u001b[2K   \u001b[90m━━━━━━━━━━━━━━━━━━━━━━━━━━━━━━━━━━━━━━━━\u001b[0m \u001b[32m664.8/664.8 MB\u001b[0m \u001b[31m2.1 MB/s\u001b[0m eta \u001b[36m0:00:00\u001b[0m\n",
            "\u001b[2K   \u001b[90m━━━━━━━━━━━━━━━━━━━━━━━━━━━━━━━━━━━━━━━━\u001b[0m \u001b[32m211.5/211.5 MB\u001b[0m \u001b[31m4.8 MB/s\u001b[0m eta \u001b[36m0:00:00\u001b[0m\n",
            "\u001b[2K   \u001b[90m━━━━━━━━━━━━━━━━━━━━━━━━━━━━━━━━━━━━━━━━\u001b[0m \u001b[32m56.3/56.3 MB\u001b[0m \u001b[31m42.4 MB/s\u001b[0m eta \u001b[36m0:00:00\u001b[0m\n",
            "\u001b[2K   \u001b[90m━━━━━━━━━━━━━━━━━━━━━━━━━━━━━━━━━━━━━━━━\u001b[0m \u001b[32m127.9/127.9 MB\u001b[0m \u001b[31m18.9 MB/s\u001b[0m eta \u001b[36m0:00:00\u001b[0m\n",
            "\u001b[2K   \u001b[90m━━━━━━━━━━━━━━━━━━━━━━━━━━━━━━━━━━━━━━━━\u001b[0m \u001b[32m207.5/207.5 MB\u001b[0m \u001b[31m5.0 MB/s\u001b[0m eta \u001b[36m0:00:00\u001b[0m\n",
            "\u001b[2K   \u001b[90m━━━━━━━━━━━━━━━━━━━━━━━━━━━━━━━━━━━━━━━━\u001b[0m \u001b[32m21.1/21.1 MB\u001b[0m \u001b[31m105.3 MB/s\u001b[0m eta \u001b[36m0:00:00\u001b[0m\n",
            "\u001b[2K   \u001b[90m━━━━━━━━━━━━━━━━━━━━━━━━━━━━━━━━━━━━━━━━\u001b[0m \u001b[32m76.1/76.1 MB\u001b[0m \u001b[31m32.7 MB/s\u001b[0m eta \u001b[36m0:00:00\u001b[0m\n",
            "\u001b[?25h"
          ]
        }
      ],
      "source": [
        "# STEP 1: Install dependencies\n",
        "!pip install -q yfinance transformers accelerate\n",
        "!pip -q install -U bitsandbytes\n",
        "\n",
        "# STEP 2: Download NVIDIA stock data\n",
        "import yfinance as yf\n",
        "import pandas as pd\n"
      ]
    },
    {
      "cell_type": "markdown",
      "source": [
        "# **💾 Connect to Google Drive**"
      ],
      "metadata": {
        "id": "loz685c_zrUf"
      }
    },
    {
      "cell_type": "code",
      "source": [
        "from google.colab import drive\n",
        "drive.mount('/content/drive')"
      ],
      "metadata": {
        "colab": {
          "base_uri": "https://localhost:8080/"
        },
        "id": "7m7OiL0sz7wl",
        "outputId": "ac2573b4-dcdb-4a4f-a85d-7066e0e12239"
      },
      "execution_count": null,
      "outputs": [
        {
          "output_type": "stream",
          "name": "stdout",
          "text": [
            "Drive already mounted at /content/drive; to attempt to forcibly remount, call drive.mount(\"/content/drive\", force_remount=True).\n"
          ]
        }
      ]
    },
    {
      "cell_type": "markdown",
      "source": [
        "## **📅 Dataset Download**"
      ],
      "metadata": {
        "id": "g5MrvgEiiJdC"
      }
    },
    {
      "cell_type": "code",
      "source": [
        "\"\"\"\n",
        "df_nvda = yf.download(\"NVDA\", start=\"2020-01-01\", end=\"2022-01-01\")\n",
        "df_nvda = df_nvda[[\"Open\", \"High\", \"Low\", \"Close\", \"Volume\"]].round(2)\n",
        "\n",
        "# Show first few rows\n",
        "print(\"✅ Sample NVIDIA data:\")\n",
        "print(df_nvda.head(10))\n",
        "\n",
        "# Step 4: Save to CSV\n",
        "output_path = \"/content/drive/MyDrive/Colab Notebooks/thesis/nvidia_2020_2021.csv\"\n",
        "df_nvda.to_csv(output_path)\n",
        "print(f\"💾 File saved to: {output_path}\")\n",
        "\"\"\""
      ],
      "metadata": {
        "colab": {
          "base_uri": "https://localhost:8080/",
          "height": 70
        },
        "id": "lQuscUEOhpnn",
        "outputId": "be47fbe2-6116-42b5-b3f8-04482b39bd67"
      },
      "execution_count": null,
      "outputs": [
        {
          "output_type": "execute_result",
          "data": {
            "text/plain": [
              "' \\ndf_nvda = yf.download(\"NVDA\", start=\"2020-01-01\", end=\"2022-01-01\")\\ndf_nvda = df_nvda[[\"Open\", \"High\", \"Low\", \"Close\", \"Volume\"]].round(2)\\n\\n# Show first few rows\\nprint(\"✅ Sample NVIDIA data:\")\\nprint(df_nvda.head(10))\\n\\n# Step 4: Save to CSV\\noutput_path = \"/content/drive/MyDrive/Colab Notebooks/thesis/nvidia_2020_2021.csv\"\\ndf_nvda.to_csv(output_path)\\nprint(f\"💾 File saved to: {output_path}\")\\n'"
            ],
            "application/vnd.google.colaboratory.intrinsic+json": {
              "type": "string"
            }
          },
          "metadata": {},
          "execution_count": 57
        }
      ]
    },
    {
      "cell_type": "markdown",
      "source": [
        "## **💬 Build the prompt**"
      ],
      "metadata": {
        "id": "-KuNrnNJii_S"
      }
    },
    {
      "cell_type": "code",
      "source": [
        "import pandas as pd\n",
        "\n",
        "# Load the data\n",
        "file_path = \"/content/drive/MyDrive/Colab Notebooks/thesis/nvidia_2020_2021.csv\"\n",
        "df_nvda = pd.read_csv(file_path, skiprows=[1, 2], header=0)\n",
        "df_nvda.columns = [\"Date\", \"Open\", \"High\", \"Low\", \"Close\", \"Volume\"]\n",
        "\n",
        "number_of_rows = 10\n",
        "\n",
        "# Display the first x rows\n",
        "print(df_nvda.head(number_of_rows))\n"
      ],
      "metadata": {
        "colab": {
          "base_uri": "https://localhost:8080/"
        },
        "id": "40gUt6q092M6",
        "outputId": "785b3918-ac3b-4b9c-d4ce-b023b777743f"
      },
      "execution_count": null,
      "outputs": [
        {
          "output_type": "stream",
          "name": "stdout",
          "text": [
            "         Date  Open  High   Low  Close     Volume\n",
            "0  2020-01-02  5.94  5.97  5.89   5.97  237536000\n",
            "1  2020-01-03  5.85  5.92  5.83   5.88  205384000\n",
            "2  2020-01-06  5.78  5.91  5.76   5.90  262636000\n",
            "3  2020-01-07  5.93  6.02  5.88   5.97  314856000\n",
            "4  2020-01-08  5.97  6.03  5.93   5.98  277108000\n",
            "5  2020-01-09  6.07  6.12  6.00   6.05  255112000\n",
            "6  2020-01-10  6.16  6.19  6.07   6.08  316296000\n",
            "7  2020-01-13  6.17  6.30  6.14   6.27  319840000\n",
            "8  2020-01-14  6.23  6.26  6.14   6.16  359088000\n",
            "9  2020-01-15  6.17  6.19  6.09   6.11  263104000\n"
          ]
        }
      ]
    },
    {
      "cell_type": "code",
      "source": [
        "# STEP 3: Build prompt using first 10 rows\n",
        "# example_data = df_nvda.head(number_of_rows).to_csv(index=False, header=False)\n",
        "example_data = df_nvda.loc[:, [\"Date\", \"Close\"]].head(number_of_rows).to_csv(index=False, header=False)\n",
        "\n",
        "\n",
        "prompt = (\n",
        "    f\"Here are {number_of_rows} real NVIDIA stock price rows in CSV format (Date,Close):\\n\\n\"\n",
        "    f\"{example_data}\\n\"\n",
        "    \"Now generate 100 synthetic daily stock prices for NVIDIA.\\n\"\n",
        "    \"Each row must be: YYYY-MM-DD,Close\\n\"\n",
        "    \"Only output pure CSV lines.\\n\"\n",
        "    \"Format: CSV with no headers. Use YYYY-MM-DD format.\\n\"\n",
        "    \"Do NOT return code, markdown, explanation, or headers.\\n\"\n",
        "    \"This is not a coding task.\\n\"\n",
        "    \"Start the data output now:\\n\"\n",
        ")\n",
        "print(\"🧠 Prompt:\")\n",
        "print(prompt)"
      ],
      "metadata": {
        "colab": {
          "base_uri": "https://localhost:8080/"
        },
        "id": "B78WKuckiyPK",
        "outputId": "ca043c8e-16be-417d-b8b7-67c63241c78e"
      },
      "execution_count": null,
      "outputs": [
        {
          "output_type": "stream",
          "name": "stdout",
          "text": [
            "🧠 Prompt:\n",
            "Here are 10 real NVIDIA stock price rows in CSV format (Date,Close):\n",
            "\n",
            "2020-01-02,5.97\n",
            "2020-01-03,5.88\n",
            "2020-01-06,5.9\n",
            "2020-01-07,5.97\n",
            "2020-01-08,5.98\n",
            "2020-01-09,6.05\n",
            "2020-01-10,6.08\n",
            "2020-01-13,6.27\n",
            "2020-01-14,6.16\n",
            "2020-01-15,6.11\n",
            "\n",
            "Now generate 100 synthetic daily stock prices for NVIDIA.\n",
            "Each row must be: YYYY-MM-DD,Close\n",
            "Only output pure CSV lines.\n",
            "Format: CSV with no headers. Use YYYY-MM-DD format.\n",
            "Do NOT return code, markdown, explanation, or headers.\n",
            "This is not a coding task.\n",
            "Start the data output now:\n",
            "\n"
          ]
        }
      ]
    },
    {
      "cell_type": "markdown",
      "source": [
        "#**🐋 Load DeepSeek Model**"
      ],
      "metadata": {
        "id": "DcUvZlkki7R-"
      }
    },
    {
      "cell_type": "code",
      "source": [
        "# STEP 4: Load DeepSeek 1.3B with 8-bit quantization\n",
        "from transformers import AutoTokenizer, AutoModelForCausalLM\n",
        "\n",
        "# To solve error with bits and bytes\n",
        "from transformers import BitsAndBytesConfig\n",
        "\n",
        "model_name = \"deepseek-ai/deepseek-coder-1.3b-instruct\"\n",
        "\n",
        "bnb_config = BitsAndBytesConfig(load_in_8bit=True)\n",
        "\n",
        "tokenizer = AutoTokenizer.from_pretrained(model_name, trust_remote_code=True)\n",
        "model = AutoModelForCausalLM.from_pretrained(\n",
        "    model_name,\n",
        "    device_map=\"auto\",\n",
        "    quantization_config=bnb_config,\n",
        "    trust_remote_code=True\n",
        ")"
      ],
      "metadata": {
        "id": "96eLcW0UjX0a"
      },
      "execution_count": null,
      "outputs": []
    },
    {
      "cell_type": "markdown",
      "source": [
        "##**🤖 Generate Synthetic Data**"
      ],
      "metadata": {
        "id": "WZlyIdnDlsp7"
      }
    },
    {
      "cell_type": "code",
      "source": [
        "# STEP 5: Generate synthetic stock data\n",
        "import torch\n",
        "\n",
        "inputs = tokenizer(prompt, return_tensors=\"pt\").to(model.device)\n",
        "\n",
        "with torch.no_grad():\n",
        "    outputs = model.generate(\n",
        "        **inputs,\n",
        "        max_new_tokens=4000,\n",
        "        temperature=0.7,\n",
        "        top_p=0.95,\n",
        "        do_sample=True,\n",
        "        pad_token_id=tokenizer.eos_token_id\n",
        "    )\n",
        "\n",
        "generated_text = tokenizer.decode(outputs[0], skip_special_tokens=True)\n",
        "generated_csv = generated_text.split(\"Now generate 10 new days of synthetic stock data:\")[-1].strip()\n",
        "\n",
        "print(\"🧠 Generated synthetic stock CSV:\")\n",
        "print(generated_csv)\n"
      ],
      "metadata": {
        "colab": {
          "base_uri": "https://localhost:8080/"
        },
        "id": "mE-I7vWYlsPO",
        "outputId": "12625e98-9d9b-46ae-c614-f3b6dff290dd"
      },
      "execution_count": null,
      "outputs": [
        {
          "output_type": "stream",
          "name": "stdout",
          "text": [
            "🧠 Generated synthetic stock CSV:\n",
            "Here are 10 real NVIDIA stock price rows in CSV format (Date,Close):\n",
            "\n",
            "2020-01-02,5.97\n",
            "2020-01-03,5.88\n",
            "2020-01-06,5.9\n",
            "2020-01-07,5.97\n",
            "2020-01-08,5.98\n",
            "2020-01-09,6.05\n",
            "2020-01-10,6.08\n",
            "2020-01-13,6.27\n",
            "2020-01-14,6.16\n",
            "2020-01-15,6.11\n",
            "\n",
            "Now generate 100 synthetic daily stock prices for NVIDIA.\n",
            "Each row must be: YYYY-MM-DD,Close\n",
            "Only output pure CSV lines.\n",
            "Format: CSV with no headers. Use YYYY-MM-DD format.\n",
            "Do NOT return code, markdown, explanation, or headers.\n",
            "This is not a coding task.\n",
            "Start the data output now:\n",
            "\n",
            "2020-01-02,5.97\n",
            "2020-01-03,5.88\n",
            "2020-01-04,5.9\n",
            "2020-01-05,5.97\n",
            "2020-01-06,5.98\n",
            "2020-01-07,5.99\n",
            "2020-01-08,6.0\n",
            "2020-01-09,6.05\n",
            "2020-01-10,6.06\n",
            "2020-01-11,6.07\n",
            "2020-01-12,6.08\n",
            "2020-01-13,6.15\n",
            "2020-01-14,6.16\n",
            "2020-01-15,6.17\n",
            "2020-01-16,6.2\n",
            "2020-01-17,6.23\n",
            "2020-01-18,6.27\n",
            "2020-01-19,6.28\n",
            "2020-01-20,6.29\n",
            "2020-01-21,6.3\n",
            "2020-01-22,6.31\n",
            "2020-01-23,6.36\n",
            "2020-01-24,6.37\n",
            "2020-01-25,6.4\n",
            "2020-01-26,6.42\n",
            "2020-01-27,6.43\n",
            "2020-01-28,6.44\n",
            "2020-01-29,6.45\n",
            "2020-01-30,6.46\n",
            "2020-01-31,6.47\n",
            "2020-02-01,6.48\n",
            "2020-02-02,6.5\n",
            "2020-02-03,6.52\n",
            "2020-02-04,6.53\n",
            "2020-02-05,6.54\n",
            "2020-02-06,6.55\n",
            "2020-02-07,6.56\n",
            "2020-02-08,6.57\n",
            "2020-02-09,6.58\n",
            "2020-02-10,6.59\n",
            "2020-02-11,6.6\n",
            "2020-02-12,6.61\n",
            "2020-02-13,6.62\n",
            "2020-02-14,6.63\n",
            "2020-02-15,6.64\n",
            "2020-02-16,6.65\n",
            "2020-02-17,6.66\n",
            "2020-02-18,6.67\n",
            "2020-02-19,6.68\n",
            "2020-02-20,6.69\n",
            "2020-02-21,6.7\n",
            "2020-02-22,6.71\n",
            "2020-02-23,6.72\n",
            "2020-02-24,6.73\n",
            "2020-02-25,6.74\n",
            "2020-02-26,6.75\n",
            "2020-02-27,6.76\n",
            "2020-02-28,6.77\n",
            "2020-02-29,6.78\n",
            "2020-03-01,6.79\n",
            "2020-03-02,6.8\n",
            "2020-03-03,6.81\n",
            "2020-03-04,6.82\n",
            "2020-03-05,6.83\n",
            "2020-03-06,6.84\n",
            "2020-03-07,6.85\n",
            "2020-03-08,6.86\n",
            "2020-03-09,6.87\n",
            "2020-03-10,6.88\n",
            "2020-03-11,6.89\n",
            "2020-03-12,6.9\n",
            "2020-03-13,6.91\n",
            "2020-03-14,6.92\n",
            "2020-03-15,6.93\n",
            "2020-03-16,6.94\n",
            "2020-03-17,6.95\n",
            "2020-03-18,6.96\n",
            "2020-03-19,6.97\n",
            "2020-03-20,6.98\n",
            "2020-03-21,6.99\n",
            "2020-03-22,7.0\n",
            "2020-03-23,7.01\n",
            "2020-03-24,7.02\n",
            "2020-03-25,7.03\n",
            "2020-03-26,7.04\n",
            "2020-03-27,7.05\n",
            "2020-03-28,7.06\n",
            "2020-03-29,7.07\n",
            "2020-03-30,7.08\n",
            "2020-03-31,7.09\n",
            "2020-04-01,7.1\n",
            "2020-04-02,7.11\n",
            "2020-04-03,7.12\n",
            "2020-04-04,7.13\n",
            "2020-04-05,7.14\n",
            "2020-04-06,7.15\n",
            "2020-04-07,7.16\n",
            "2020-04-08,7.17\n",
            "2020-04-09,7.18\n",
            "2020-04-10,7.19\n",
            "2020-04-11,7.2\n",
            "2020-04-12,7.21\n",
            "2020-04-13,7.22\n",
            "2020-04-14,7.23\n",
            "2020-04-15,7.24\n",
            "2020-04-16,7.25\n",
            "2020-04-17,7.26\n",
            "2020-04-18,7.27\n",
            "2020-04-19,7.28\n",
            "2020-04-20,7.29\n",
            "2020-04-21,7.3\n",
            "2020-04-22,7.31\n",
            "2020-04-23,7.32\n",
            "2020-04-24,7.33\n",
            "2020-04-25,7.34\n",
            "2020-04-26,7.35\n",
            "2020-04-27,7.36\n",
            "2020-04-28,7.37\n",
            "2020-04-29,7.38\n",
            "2020-04-30,7.39\n",
            "2020-05-01,7.4\n",
            "2020-05-02,7.41\n",
            "2020-05-03,7.42\n",
            "2020-05-04,7.43\n",
            "2020-05-05,7.44\n",
            "2020-05-06,7.45\n",
            "2020-05-07,7.46\n",
            "2020-05-08,7.47\n",
            "2020-05-09,7.48\n",
            "2020-05-10,7.49\n",
            "2020-05-11,7.5\n",
            "2020-05-12,7.51\n",
            "2020-05-13,7.52\n",
            "2020-05-14,7.53\n",
            "2020-05-15,7.54\n",
            "2020-05-16,7.55\n",
            "2020-05-17,7.56\n",
            "2020-05-18,7.57\n",
            "2020-05-19,7.58\n",
            "2020-05-20,7.59\n",
            "2020-05-21,7.6\n",
            "2020-05-22,7.61\n",
            "2020-05-23,7.62\n",
            "2020-05-24,7.63\n",
            "2020-05-25,7.64\n",
            "2020-05-26,7.65\n",
            "2020-05-27,7.66\n",
            "2020-05-28,7.67\n",
            "2020-05-29,7.68\n",
            "2020-05-30,7.69\n",
            "2020-05-31,7.7\n",
            "2020-06-01,7.71\n",
            "2020-06-02,7.72\n",
            "2020-06-03,7.73\n",
            "2020-06-04,7.74\n",
            "2020-06-05,7.75\n",
            "2020-06-06,7.76\n",
            "2020-06-07,7.77\n",
            "2020-06-08,7.78\n",
            "2020-06-09,7.79\n",
            "2020-06-10,7.8\n",
            "2020-06-11,7.81\n",
            "2020-06-12,7.82\n",
            "2020-06-13,7.83\n",
            "2020-06-14,7.84\n",
            "2020-06-15,7.85\n",
            "2020-06-16,7.86\n",
            "2020-06-17,7.87\n",
            "2020-06-18,7.88\n",
            "2020-06-19,7.89\n",
            "2020-06-20,7.9\n",
            "2020-06-21,7.91\n",
            "2020-06-22,7.92\n",
            "2020-06-23,7.93\n",
            "2020-06-24,7.94\n",
            "2020-06-25,7.95\n",
            "2020-06-26,7.96\n",
            "2020-06-27,7.97\n",
            "2020-06-28,7.98\n",
            "2020-06-29,7.99\n",
            "2020-06-30,8.0\n",
            "2020-07-01,8.01\n",
            "2020-07-02,8.02\n",
            "2020-07-03,8.03\n",
            "2020-07-04,8.04\n",
            "2020-07-05,8.05\n",
            "2020-07-06,8.06\n",
            "2020-07-07,8.07\n",
            "2020-07-08,8.08\n",
            "2020-07-09,8.09\n",
            "2020-07-10,8.1\n",
            "2020-07-11,8.11\n",
            "2020-07-12,8.12\n",
            "2020-07-13,8.13\n",
            "2020-07-14,8.14\n",
            "2020-07-15,8.15\n",
            "2020-07-16,8.16\n",
            "2020-07-17,8.17\n",
            "2020-07-18,8.18\n",
            "2020-07-19,8.19\n",
            "2020-07-20,8.2\n",
            "2020-07-21,8.21\n",
            "2020-07-22,8.22\n",
            "2020-07-23,8.23\n",
            "2020-07-24,8.24\n",
            "2020-07-25,8.25\n",
            "2020-07-26,8.26\n",
            "2020-07-27,8.27\n",
            "2020-07-28,8.28\n",
            "2020-07-29,8.29\n",
            "2020-07-30,8.3\n",
            "2020-07-31,8.31\n",
            "2020-08-01,8.32\n",
            "2020-08-02,8.33\n",
            "2020-08-03,8.34\n",
            "2020-08-04,8.35\n",
            "2020-08-05,8.36\n",
            "2020-08-06,8.37\n",
            "2020-08-07,8.38\n",
            "2020-08-08,8.39\n",
            "2020-08-09,8.4\n",
            "2020-08-10,8.41\n",
            "2020-08-11,8.42\n",
            "2020-08-12,8.43\n",
            "2020-08-13,8.44\n",
            "2020-08-14,8.45\n",
            "2020-08-15,8.46\n",
            "2020-08-16,8.47\n",
            "2020-08-17,8.48\n",
            "2020-08-18,8.49\n",
            "2020-08-19,8.5\n",
            "2020-08-20,8.51\n",
            "2020-08-21,8.52\n",
            "2020-08-22,8.53\n",
            "2020-08-23,8.54\n",
            "2020-08-24,8.55\n",
            "2020-08-25,8.56\n",
            "2020-08-26,8.57\n",
            "2020-08-27,8.58\n",
            "2020-08-28,8.59\n",
            "2020-08-29,8.6\n",
            "2020-08-30,8.61\n",
            "2020-08-31,8.62\n",
            "2020-09-01,8.63\n",
            "2020-09-02,8.64\n",
            "2020-09-03,8.65\n",
            "2020-09-04,8.66\n",
            "2020-09-05,8.67\n",
            "2020-09-06,8.68\n",
            "2020-09-07,8.69\n",
            "2020-09-08,8.7\n",
            "2020-09-09,\n"
          ]
        }
      ]
    },
    {
      "cell_type": "markdown",
      "source": [
        "##**🪟 Parse output into DataFrame**"
      ],
      "metadata": {
        "id": "FplGyT6-mwIo"
      }
    },
    {
      "cell_type": "code",
      "source": [
        "from io import StringIO\n",
        "import pandas as pd\n",
        "import re\n",
        "\n",
        "# 1. Extract only valid rows: starts with YYYY-MM-DD and has 2 columns\n",
        "lines = []\n",
        "for line in generated_csv.splitlines():\n",
        "    line = line.strip()\n",
        "    if re.match(r\"^\\d{4}-\\d{2}-\\d{2},\", line):\n",
        "        parts = line.split(\",\")\n",
        "        if len(parts) == 2:\n",
        "            try:\n",
        "                float(parts[1])  # Close value\n",
        "                lines.append(line)\n",
        "            except ValueError:\n",
        "                continue\n",
        "\n",
        "# 2. Check number of rows captured\n",
        "print(f\"✅ {len(lines)} valid rows captured.\")\n",
        "\n",
        "# 3. Parse into DataFrame\n",
        "cleaned_csv = \"\\n\".join(lines)\n",
        "\n",
        "df_synthetic = pd.read_csv(StringIO(cleaned_csv), header=None, names=[\"Date\", \"Close\"])\n",
        "df_synthetic[\"Date\"] = pd.to_datetime(df_synthetic[\"Date\"])\n",
        "\n",
        "print(\"📊 Parsed synthetic DataFrame:\")\n",
        "df_synthetic.head()\n"
      ],
      "metadata": {
        "colab": {
          "base_uri": "https://localhost:8080/",
          "height": 240
        },
        "id": "z_-ejXDTMxQc",
        "outputId": "7112b170-56d1-4c26-e78d-647c7bb58cd1"
      },
      "execution_count": null,
      "outputs": [
        {
          "output_type": "stream",
          "name": "stdout",
          "text": [
            "✅ 261 valid rows captured.\n",
            "📊 Parsed synthetic DataFrame:\n"
          ]
        },
        {
          "output_type": "execute_result",
          "data": {
            "text/plain": [
              "        Date  Close\n",
              "0 2020-01-02   5.97\n",
              "1 2020-01-03   5.88\n",
              "2 2020-01-06   5.90\n",
              "3 2020-01-07   5.97\n",
              "4 2020-01-08   5.98"
            ],
            "text/html": [
              "\n",
              "  <div id=\"df-091ff1ac-4525-4b5d-847a-6d6dcb5c5715\" class=\"colab-df-container\">\n",
              "    <div>\n",
              "<style scoped>\n",
              "    .dataframe tbody tr th:only-of-type {\n",
              "        vertical-align: middle;\n",
              "    }\n",
              "\n",
              "    .dataframe tbody tr th {\n",
              "        vertical-align: top;\n",
              "    }\n",
              "\n",
              "    .dataframe thead th {\n",
              "        text-align: right;\n",
              "    }\n",
              "</style>\n",
              "<table border=\"1\" class=\"dataframe\">\n",
              "  <thead>\n",
              "    <tr style=\"text-align: right;\">\n",
              "      <th></th>\n",
              "      <th>Date</th>\n",
              "      <th>Close</th>\n",
              "    </tr>\n",
              "  </thead>\n",
              "  <tbody>\n",
              "    <tr>\n",
              "      <th>0</th>\n",
              "      <td>2020-01-02</td>\n",
              "      <td>5.97</td>\n",
              "    </tr>\n",
              "    <tr>\n",
              "      <th>1</th>\n",
              "      <td>2020-01-03</td>\n",
              "      <td>5.88</td>\n",
              "    </tr>\n",
              "    <tr>\n",
              "      <th>2</th>\n",
              "      <td>2020-01-06</td>\n",
              "      <td>5.90</td>\n",
              "    </tr>\n",
              "    <tr>\n",
              "      <th>3</th>\n",
              "      <td>2020-01-07</td>\n",
              "      <td>5.97</td>\n",
              "    </tr>\n",
              "    <tr>\n",
              "      <th>4</th>\n",
              "      <td>2020-01-08</td>\n",
              "      <td>5.98</td>\n",
              "    </tr>\n",
              "  </tbody>\n",
              "</table>\n",
              "</div>\n",
              "    <div class=\"colab-df-buttons\">\n",
              "\n",
              "  <div class=\"colab-df-container\">\n",
              "    <button class=\"colab-df-convert\" onclick=\"convertToInteractive('df-091ff1ac-4525-4b5d-847a-6d6dcb5c5715')\"\n",
              "            title=\"Convert this dataframe to an interactive table.\"\n",
              "            style=\"display:none;\">\n",
              "\n",
              "  <svg xmlns=\"http://www.w3.org/2000/svg\" height=\"24px\" viewBox=\"0 -960 960 960\">\n",
              "    <path d=\"M120-120v-720h720v720H120Zm60-500h600v-160H180v160Zm220 220h160v-160H400v160Zm0 220h160v-160H400v160ZM180-400h160v-160H180v160Zm440 0h160v-160H620v160ZM180-180h160v-160H180v160Zm440 0h160v-160H620v160Z\"/>\n",
              "  </svg>\n",
              "    </button>\n",
              "\n",
              "  <style>\n",
              "    .colab-df-container {\n",
              "      display:flex;\n",
              "      gap: 12px;\n",
              "    }\n",
              "\n",
              "    .colab-df-convert {\n",
              "      background-color: #E8F0FE;\n",
              "      border: none;\n",
              "      border-radius: 50%;\n",
              "      cursor: pointer;\n",
              "      display: none;\n",
              "      fill: #1967D2;\n",
              "      height: 32px;\n",
              "      padding: 0 0 0 0;\n",
              "      width: 32px;\n",
              "    }\n",
              "\n",
              "    .colab-df-convert:hover {\n",
              "      background-color: #E2EBFA;\n",
              "      box-shadow: 0px 1px 2px rgba(60, 64, 67, 0.3), 0px 1px 3px 1px rgba(60, 64, 67, 0.15);\n",
              "      fill: #174EA6;\n",
              "    }\n",
              "\n",
              "    .colab-df-buttons div {\n",
              "      margin-bottom: 4px;\n",
              "    }\n",
              "\n",
              "    [theme=dark] .colab-df-convert {\n",
              "      background-color: #3B4455;\n",
              "      fill: #D2E3FC;\n",
              "    }\n",
              "\n",
              "    [theme=dark] .colab-df-convert:hover {\n",
              "      background-color: #434B5C;\n",
              "      box-shadow: 0px 1px 3px 1px rgba(0, 0, 0, 0.15);\n",
              "      filter: drop-shadow(0px 1px 2px rgba(0, 0, 0, 0.3));\n",
              "      fill: #FFFFFF;\n",
              "    }\n",
              "  </style>\n",
              "\n",
              "    <script>\n",
              "      const buttonEl =\n",
              "        document.querySelector('#df-091ff1ac-4525-4b5d-847a-6d6dcb5c5715 button.colab-df-convert');\n",
              "      buttonEl.style.display =\n",
              "        google.colab.kernel.accessAllowed ? 'block' : 'none';\n",
              "\n",
              "      async function convertToInteractive(key) {\n",
              "        const element = document.querySelector('#df-091ff1ac-4525-4b5d-847a-6d6dcb5c5715');\n",
              "        const dataTable =\n",
              "          await google.colab.kernel.invokeFunction('convertToInteractive',\n",
              "                                                    [key], {});\n",
              "        if (!dataTable) return;\n",
              "\n",
              "        const docLinkHtml = 'Like what you see? Visit the ' +\n",
              "          '<a target=\"_blank\" href=https://colab.research.google.com/notebooks/data_table.ipynb>data table notebook</a>'\n",
              "          + ' to learn more about interactive tables.';\n",
              "        element.innerHTML = '';\n",
              "        dataTable['output_type'] = 'display_data';\n",
              "        await google.colab.output.renderOutput(dataTable, element);\n",
              "        const docLink = document.createElement('div');\n",
              "        docLink.innerHTML = docLinkHtml;\n",
              "        element.appendChild(docLink);\n",
              "      }\n",
              "    </script>\n",
              "  </div>\n",
              "\n",
              "\n",
              "    <div id=\"df-bfcd2f2a-dd50-48a0-a403-49650bbb5a8c\">\n",
              "      <button class=\"colab-df-quickchart\" onclick=\"quickchart('df-bfcd2f2a-dd50-48a0-a403-49650bbb5a8c')\"\n",
              "                title=\"Suggest charts\"\n",
              "                style=\"display:none;\">\n",
              "\n",
              "<svg xmlns=\"http://www.w3.org/2000/svg\" height=\"24px\"viewBox=\"0 0 24 24\"\n",
              "     width=\"24px\">\n",
              "    <g>\n",
              "        <path d=\"M19 3H5c-1.1 0-2 .9-2 2v14c0 1.1.9 2 2 2h14c1.1 0 2-.9 2-2V5c0-1.1-.9-2-2-2zM9 17H7v-7h2v7zm4 0h-2V7h2v10zm4 0h-2v-4h2v4z\"/>\n",
              "    </g>\n",
              "</svg>\n",
              "      </button>\n",
              "\n",
              "<style>\n",
              "  .colab-df-quickchart {\n",
              "      --bg-color: #E8F0FE;\n",
              "      --fill-color: #1967D2;\n",
              "      --hover-bg-color: #E2EBFA;\n",
              "      --hover-fill-color: #174EA6;\n",
              "      --disabled-fill-color: #AAA;\n",
              "      --disabled-bg-color: #DDD;\n",
              "  }\n",
              "\n",
              "  [theme=dark] .colab-df-quickchart {\n",
              "      --bg-color: #3B4455;\n",
              "      --fill-color: #D2E3FC;\n",
              "      --hover-bg-color: #434B5C;\n",
              "      --hover-fill-color: #FFFFFF;\n",
              "      --disabled-bg-color: #3B4455;\n",
              "      --disabled-fill-color: #666;\n",
              "  }\n",
              "\n",
              "  .colab-df-quickchart {\n",
              "    background-color: var(--bg-color);\n",
              "    border: none;\n",
              "    border-radius: 50%;\n",
              "    cursor: pointer;\n",
              "    display: none;\n",
              "    fill: var(--fill-color);\n",
              "    height: 32px;\n",
              "    padding: 0;\n",
              "    width: 32px;\n",
              "  }\n",
              "\n",
              "  .colab-df-quickchart:hover {\n",
              "    background-color: var(--hover-bg-color);\n",
              "    box-shadow: 0 1px 2px rgba(60, 64, 67, 0.3), 0 1px 3px 1px rgba(60, 64, 67, 0.15);\n",
              "    fill: var(--button-hover-fill-color);\n",
              "  }\n",
              "\n",
              "  .colab-df-quickchart-complete:disabled,\n",
              "  .colab-df-quickchart-complete:disabled:hover {\n",
              "    background-color: var(--disabled-bg-color);\n",
              "    fill: var(--disabled-fill-color);\n",
              "    box-shadow: none;\n",
              "  }\n",
              "\n",
              "  .colab-df-spinner {\n",
              "    border: 2px solid var(--fill-color);\n",
              "    border-color: transparent;\n",
              "    border-bottom-color: var(--fill-color);\n",
              "    animation:\n",
              "      spin 1s steps(1) infinite;\n",
              "  }\n",
              "\n",
              "  @keyframes spin {\n",
              "    0% {\n",
              "      border-color: transparent;\n",
              "      border-bottom-color: var(--fill-color);\n",
              "      border-left-color: var(--fill-color);\n",
              "    }\n",
              "    20% {\n",
              "      border-color: transparent;\n",
              "      border-left-color: var(--fill-color);\n",
              "      border-top-color: var(--fill-color);\n",
              "    }\n",
              "    30% {\n",
              "      border-color: transparent;\n",
              "      border-left-color: var(--fill-color);\n",
              "      border-top-color: var(--fill-color);\n",
              "      border-right-color: var(--fill-color);\n",
              "    }\n",
              "    40% {\n",
              "      border-color: transparent;\n",
              "      border-right-color: var(--fill-color);\n",
              "      border-top-color: var(--fill-color);\n",
              "    }\n",
              "    60% {\n",
              "      border-color: transparent;\n",
              "      border-right-color: var(--fill-color);\n",
              "    }\n",
              "    80% {\n",
              "      border-color: transparent;\n",
              "      border-right-color: var(--fill-color);\n",
              "      border-bottom-color: var(--fill-color);\n",
              "    }\n",
              "    90% {\n",
              "      border-color: transparent;\n",
              "      border-bottom-color: var(--fill-color);\n",
              "    }\n",
              "  }\n",
              "</style>\n",
              "\n",
              "      <script>\n",
              "        async function quickchart(key) {\n",
              "          const quickchartButtonEl =\n",
              "            document.querySelector('#' + key + ' button');\n",
              "          quickchartButtonEl.disabled = true;  // To prevent multiple clicks.\n",
              "          quickchartButtonEl.classList.add('colab-df-spinner');\n",
              "          try {\n",
              "            const charts = await google.colab.kernel.invokeFunction(\n",
              "                'suggestCharts', [key], {});\n",
              "          } catch (error) {\n",
              "            console.error('Error during call to suggestCharts:', error);\n",
              "          }\n",
              "          quickchartButtonEl.classList.remove('colab-df-spinner');\n",
              "          quickchartButtonEl.classList.add('colab-df-quickchart-complete');\n",
              "        }\n",
              "        (() => {\n",
              "          let quickchartButtonEl =\n",
              "            document.querySelector('#df-bfcd2f2a-dd50-48a0-a403-49650bbb5a8c button');\n",
              "          quickchartButtonEl.style.display =\n",
              "            google.colab.kernel.accessAllowed ? 'block' : 'none';\n",
              "        })();\n",
              "      </script>\n",
              "    </div>\n",
              "\n",
              "    </div>\n",
              "  </div>\n"
            ],
            "application/vnd.google.colaboratory.intrinsic+json": {
              "type": "dataframe",
              "variable_name": "df_synthetic",
              "summary": "{\n  \"name\": \"df_synthetic\",\n  \"rows\": 261,\n  \"fields\": [\n    {\n      \"column\": \"Date\",\n      \"properties\": {\n        \"dtype\": \"date\",\n        \"min\": \"2020-01-02 00:00:00\",\n        \"max\": \"2020-09-08 00:00:00\",\n        \"num_unique_values\": 251,\n        \"samples\": [\n          \"2020-06-05 00:00:00\",\n          \"2020-01-10 00:00:00\",\n          \"2020-06-14 00:00:00\"\n        ],\n        \"semantic_type\": \"\",\n        \"description\": \"\"\n      }\n    },\n    {\n      \"column\": \"Close\",\n      \"properties\": {\n        \"dtype\": \"number\",\n        \"std\": 0.787854035800468,\n        \"min\": 5.88,\n        \"max\": 8.7,\n        \"num_unique_values\": 251,\n        \"samples\": [\n          7.75,\n          6.27,\n          7.84\n        ],\n        \"semantic_type\": \"\",\n        \"description\": \"\"\n      }\n    }\n  ]\n}"
            }
          },
          "metadata": {},
          "execution_count": 151
        }
      ]
    },
    {
      "cell_type": "markdown",
      "source": [
        "## **📉 Visualize the results**"
      ],
      "metadata": {
        "id": "lBfQHG2JCavX"
      }
    },
    {
      "cell_type": "code",
      "source": [
        "df_real = df_nvda.copy()\n",
        "df_real.columns = [\"Date\", \"Open\", \"High\", \"Low\", \"Close\", \"Volume\"]\n",
        "\n",
        "df_real.head()\n",
        "\n",
        "df_real[\"Date\"] = pd.to_datetime(df_real[\"Date\"])\n",
        "df_synthetic[\"Date\"] = pd.to_datetime(df_synthetic[\"Date\"])\n"
      ],
      "metadata": {
        "id": "zkXoNmwWChxP"
      },
      "execution_count": null,
      "outputs": []
    },
    {
      "cell_type": "code",
      "source": [
        "import matplotlib.pyplot as plt\n",
        "\n",
        "plt.figure(figsize=(12, 5))\n",
        "\n",
        "# Serie real\n",
        "plt.plot(df_real[\"Date\"], df_real[\"Close\"], label=\"Real Data\", color=\"blue\")\n",
        "\n",
        "# Serie sintética\n",
        "plt.plot(df_synthetic[\"Date\"], df_synthetic[\"Close\"], label=\"Synthetic Data\", color=\"orange\", linestyle=\"--\")\n",
        "\n",
        "plt.title(\"Comparison: Real vs Synthetic NVIDIA Stock Prices (Close)\")\n",
        "plt.xlabel(\"Date\")\n",
        "plt.ylabel(\"Close Price\")\n",
        "plt.legend()\n",
        "plt.grid(True)\n",
        "plt.xticks(rotation=45)\n",
        "plt.xlim(df_real[\"Date\"].min(), df_synthetic[\"Date\"].max())\n",
        "\n",
        "plt.tight_layout()\n",
        "plt.show()"
      ],
      "metadata": {
        "colab": {
          "base_uri": "https://localhost:8080/",
          "height": 507
        },
        "id": "kviX1lSuDMvS",
        "outputId": "28372d14-f809-4837-aa74-e6d172f907b6"
      },
      "execution_count": null,
      "outputs": [
        {
          "output_type": "display_data",
          "data": {
            "text/plain": [
              "<Figure size 1200x500 with 1 Axes>"
            ],
            "image/png": "[encoded data removed]"
          },
          "metadata": {}
        }
      ]
    },
    {
      "cell_type": "code",
      "source": [
        "import matplotlib.pyplot as plt\n",
        "\n",
        "plt.figure(figsize=(12, 6))\n",
        "for col in [\"Close\"]:\n",
        "    plt.plot(df_synthetic[\"Date\"], df_synthetic[col], label=col)\n",
        "\n",
        "plt.title(\"Synthetic OHLC Prices for NVIDIA\")\n",
        "plt.xlabel(\"Date\")\n",
        "plt.ylabel(\"Price\")\n",
        "plt.grid(True)\n",
        "plt.xticks(rotation=45)\n",
        "plt.legend()\n",
        "plt.tight_layout()\n",
        "plt.show()\n"
      ],
      "metadata": {
        "colab": {
          "base_uri": "https://localhost:8080/",
          "height": 607
        },
        "id": "oc6u6U5XuF-N",
        "outputId": "04ca091e-b632-4a1c-eaf4-99fabe1d294f"
      },
      "execution_count": null,
      "outputs": [
        {
          "output_type": "display_data",
          "data": {
            "text/plain": [
              "<Figure size 1200x600 with 1 Axes>"
            ],
            "image/png": "[encoded data removed]"
          },
          "metadata": {}
        }
      ]
    }
  ]
}