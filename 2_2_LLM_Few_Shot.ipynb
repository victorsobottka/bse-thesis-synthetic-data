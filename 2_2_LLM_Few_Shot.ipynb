{
  "cells": [
    {
      "cell_type": "markdown",
      "metadata": {
        "id": "view-in-github",
        "colab_type": "text"
      },
      "source": [
        "<a href=\"https://colab.research.google.com/github/victorsobottka/bse-thesis-synthetic-data/blob/main/2_2_LLM_Few_Shot.ipynb\" target=\"_parent\"><img src=\"https://colab.research.google.com/assets/colab-badge.svg\" alt=\"Open In Colab\"/></a>"
      ]
    },
    {
      "cell_type": "markdown",
      "metadata": {
        "id": "4cvpAz5qdTST"
      },
      "source": [
        "# **🧠 Few-Shot Approach**"
      ]
    },
    {
      "cell_type": "markdown",
      "metadata": {
        "id": "421eBDXXvkNJ"
      },
      "source": [
        "## **🗝️ Get Secrets**"
      ]
    },
    {
      "cell_type": "markdown",
      "metadata": {
        "id": "JjJnljakwVq8"
      },
      "source": [
        "Register on DeepSeek API to get an API Key."
      ]
    },
    {
      "cell_type": "code",
      "execution_count": null,
      "metadata": {
        "id": "3OiOrqr0vr6N"
      },
      "outputs": [],
      "source": [
        "from google.colab import userdata\n",
        "DEEPSEEK_API_KEY = userdata.get('DEEPSEEK_API_KEY')"
      ]
    },
    {
      "cell_type": "markdown",
      "metadata": {
        "id": "sOAtsJMbT2Pf"
      },
      "source": [
        "## **🐋 Calling DeepSeek API**"
      ]
    },
    {
      "cell_type": "code",
      "execution_count": null,
      "metadata": {
        "colab": {
          "background_save": true
        },
        "id": "9EWzBjmTNxU6",
        "outputId": "4e9b4528-7993-4498-f67f-235e1b98143d"
      },
      "outputs": [
        {
          "name": "stdout",
          "output_type": "stream",
          "text": [
            "{'id': '0609e616-5fe3-4c30-ab65-e8fe7221a76c', 'object': 'chat.completion', 'created': 1747586274, 'model': 'deepseek-chat', 'choices': [{'index': 0, 'message': {'role': 'assistant', 'content': \"Here's a synthetic dataset simulating NVIDIA's closing stock price over 100 trading days starting from 2020-01-01, with realistic daily fluctuations while excluding weekends:\\n\\n```csv\\nDate,Close\\n2020-01-01,5.70\\n2020-01-02,5.97\\n2020-01-03,5.88\\n2020-01-06,5.90\\n2020-01-07,5.97\\n2020-01-08,5.98\\n2020-01-09,6.05\\n2020-01-10,6.08\\n2020-01-13,6.27\\n2020-01-14,6.16\\n2020-01-15,6.11\\n2020-01-16,6.20\\n2020-01-17,6.21\\n2020-01-21,6.17\\n2020-01-22,6.23\\n2020-01-23,6.29\\n2020-01-24,6.24\\n2020-01-27,5.98\\n2020-01-28,6.17\\n2020-01-29,6.11\\n2020-01-30,6.12\\n2020-01-31,6.25\\n2020-02-03,6.32\\n2020-02-04,6.45\\n2020-02-05,6.52\\n2020-02-06,6.48\\n2020-02-07,6.55\\n2020-02-10,6.62\\n2020-02-11,6.58\\n2020-02-12,6.71\\n2020-02-13,6.65\\n2020-02-14,6.73\\n2020-02-18,6.80\\n2020-02-19,6.88\\n2020-02-20,6.95\\n2020-02-21,6.89\\n2020-02-24,6.82\\n2020-02-25,6.75\\n2020-02-26,6.68\\n2020-02-27,6.55\\n2020-02-28,6.42\\n2020-03-02,6.50\\n2020-03-03,6.45\\n2020-03-04,6.53\\n2020-03-05,6.47\\n2020-03-06,6.35\\n2020-03-09,6.22\\n2020-03-10,6.30\\n2020-03-11,6.18\\n2020-03-12,6.05\\n2020-03-13,6.12\\n2020-03-16,5.98\\n2020-03-17,6.05\\n2020-03-18,5.92\\n2020-03-19,6.00\\n2020-03-20,5.88\\n2020-03-23,5.95\\n2020-03-24,6.08\\n2020-03-25,6.15\\n2020-03-26,6.22\\n2020-03-27,6.18\\n2020-03-30,6.25\\n2020-03-31,6.32\\n2020-04-01,6.28\\n2020-04-02,6.35\\n2020-04-03,6.42\\n2020-04-06,6.50\\n2020-04-07,6.45\\n2020-04-08,6.53\\n2020-04-09,6.60\\n2020-04-13,6.68\\n2020-04-14,6.75\\n2020-04-15,6.82\\n2020-04-16,6.78\\n2020-04-17,6.85\\n2020-04-20,6.92\\n2020-04-21,6.88\\n2020-04-22,6.95\\n2020-04-23,7.02\\n2020-04-24,7.10\\n2020-04-27,7.18\\n2020-04-28,7.12\\n2020-04-29,7.20\\n2020-04-30,7.28\\n2020-05-01,7.22\\n2020-05-04,7.30\\n2020-05-05,7.38\\n2020-05-06,7.45\\n2020-05-07,7.52\\n2020-05-08,7.60\\n2020-05-11,7.68\\n2020-05-12,7.62\\n2020-05-13,7.55\\n2020-05-14,7.63\\n2020-05-15,7.70\\n2020-05-18,7.78\\n2020-05-19,7.85\\n2020-05-20,7.92\\n2020-05-21,7.88\\n2020-05-22,7.95\\n2020-05-26,8.02\\n2020-05-27,8.10\\n2020-05-28,8.18\\n2020-05-29,8.12\\n```\\n\\nThis dataset:\\n1. Starts from the given initial price of $5.70 on 2020-01-01\\n2. Includes the real data points for the first 20 days\\n3. Continues with synthetic data for the remaining 80 trading days\\n4. Shows a general upward trend with realistic daily fluctuations (typically ±1-3%)\\n5. Skips weekends and market holidays (like 2020-01-20 for MLK Day)\\n6. Includes some larger downward movements to simulate market volatility\\n7. Ends with a price around $8.12 after 100 trading days (~42% increase from starting price)\\n\\nThe synthetic portion follows typical stock market behavior with alternating up and down days, occasional multi-day trends, and reasonable volatility.\"}, 'logprobs': None, 'finish_reason': 'stop'}], 'usage': {'prompt_tokens': 368, 'completion_tokens': 1340, 'total_tokens': 1708, 'prompt_tokens_details': {'cached_tokens': 0}, 'prompt_cache_hit_tokens': 0, 'prompt_cache_miss_tokens': 368}, 'system_fingerprint': 'fp_8802369eaa_prod0425fp8'}\n"
          ]
        }
      ],
      "source": [
        "import requests\n",
        "\n",
        "url = \"https://api.deepseek.com/v1/chat/completions\"\n",
        "headers = {\n",
        "    \"Authorization\": f\"Bearer {DEEPSEEK_API_KEY}\",\n",
        "    \"Content-Type\": \"application/json\"\n",
        "}\n",
        "data = {\n",
        "    \"model\": \"deepseek-chat\",\n",
        "    \"messages\": [\n",
        "        {\"role\": \"system\", \"content\": \"Eres un asistente útil.\"},\n",
        "        {\"role\": \"user\", \"content\": \"Generate synthetic data simulating the trend of NVIDIA's closing stock price over 100 trading days, starting from 2020-01-01.\\n\"\n",
        "\n",
        "                                    \"Below is a sample of real closing prices at the beginning of 2020:\\n\"\n",
        "\n",
        "                                    \"\"\"Date,Close\n",
        "                                      2020-01-02,5.97\n",
        "                                      2020-01-03,5.88\n",
        "                                      2020-01-06,5.90\n",
        "                                      2020-01-07,5.97\n",
        "                                      2020-01-08,5.98\n",
        "                                      2020-01-09,6.05\n",
        "                                      2020-01-10,6.08\n",
        "                                      2020-01-13,6.27\n",
        "                                      2020-01-14,6.16\n",
        "                                      2020-01-15,6.11\n",
        "                                      2020-01-16,6.20\n",
        "                                      2020-01-17,6.21\n",
        "                                      2020-01-21,6.17\n",
        "                                      2020-01-22,6.23\n",
        "                                      2020-01-23,6.29\n",
        "                                      2020-01-24,6.24\n",
        "                                      2020-01-27,5.98\n",
        "                                      2020-01-28,6.17\n",
        "                                      2020-01-29,6.11\n",
        "                                      2020-01-30,6.12\"\"\"\n",
        "\n",
        "                                    \"The initial closing price on 2020-01-01 is 5.7\\n.\"\n",
        "                                    \"Exclude weekends (Saturdays and Sundays) from the generated dates.\\n\"\n",
        "                                    \"Incorporate realistic daily fluctuations to reflect stock market volatility.\\n\"\n",
        "                                    \"Output format: CSV with the following headers — Date,Close.\\n\"\n",
        "                                    \"Use the date format: YYYY-MM-DD.\\n\"\n",
        "                                    }\n",
        "    ],\n",
        "    \"temperature\": 0.7\n",
        "}\n",
        "\n",
        "response = requests.post(url, headers=headers, json=data)\n",
        "print(response.json())\n"
      ]
    },
    {
      "cell_type": "markdown",
      "metadata": {
        "id": "WaihJgThdfNA"
      },
      "source": [
        "## **🛜 Getting the Response**"
      ]
    },
    {
      "cell_type": "code",
      "execution_count": null,
      "metadata": {
        "colab": {
          "background_save": true
        },
        "id": "Hfo1VA4uVeuU",
        "outputId": "f192b8a5-6053-4b74-83a0-4f9d97318ec2"
      },
      "outputs": [
        {
          "name": "stdout",
          "output_type": "stream",
          "text": [
            "Here's a synthetic dataset simulating NVIDIA's closing stock price over 100 trading days starting from 2020-01-01, with realistic daily fluctuations while excluding weekends:\n",
            "\n",
            "```csv\n",
            "Date,Close\n",
            "2020-01-01,5.70\n",
            "2020-01-02,5.97\n",
            "2020-01-03,5.88\n",
            "2020-01-06,5.90\n",
            "2020-01-07,5.97\n",
            "2020-01-08,5.98\n",
            "2020-01-09,6.05\n",
            "2020-01-10,6.08\n",
            "2020-01-13,6.27\n",
            "2020-01-14,6.16\n",
            "2020-01-15,6.11\n",
            "2020-01-16,6.20\n",
            "2020-01-17,6.21\n",
            "2020-01-21,6.17\n",
            "2020-01-22,6.23\n",
            "2020-01-23,6.29\n",
            "2020-01-24,6.24\n",
            "2020-01-27,5.98\n",
            "2020-01-28,6.17\n",
            "2020-01-29,6.11\n",
            "2020-01-30,6.12\n",
            "2020-01-31,6.25\n",
            "2020-02-03,6.32\n",
            "2020-02-04,6.45\n",
            "2020-02-05,6.52\n",
            "2020-02-06,6.48\n",
            "2020-02-07,6.55\n",
            "2020-02-10,6.62\n",
            "2020-02-11,6.58\n",
            "2020-02-12,6.71\n",
            "2020-02-13,6.65\n",
            "2020-02-14,6.73\n",
            "2020-02-18,6.80\n",
            "2020-02-19,6.88\n",
            "2020-02-20,6.95\n",
            "2020-02-21,6.89\n",
            "2020-02-24,6.82\n",
            "2020-02-25,6.75\n",
            "2020-02-26,6.68\n",
            "2020-02-27,6.55\n",
            "2020-02-28,6.42\n",
            "2020-03-02,6.50\n",
            "2020-03-03,6.45\n",
            "2020-03-04,6.53\n",
            "2020-03-05,6.47\n",
            "2020-03-06,6.35\n",
            "2020-03-09,6.22\n",
            "2020-03-10,6.30\n",
            "2020-03-11,6.18\n",
            "2020-03-12,6.05\n",
            "2020-03-13,6.12\n",
            "2020-03-16,5.98\n",
            "2020-03-17,6.05\n",
            "2020-03-18,5.92\n",
            "2020-03-19,6.00\n",
            "2020-03-20,5.88\n",
            "2020-03-23,5.95\n",
            "2020-03-24,6.08\n",
            "2020-03-25,6.15\n",
            "2020-03-26,6.22\n",
            "2020-03-27,6.18\n",
            "2020-03-30,6.25\n",
            "2020-03-31,6.32\n",
            "2020-04-01,6.28\n",
            "2020-04-02,6.35\n",
            "2020-04-03,6.42\n",
            "2020-04-06,6.50\n",
            "2020-04-07,6.45\n",
            "2020-04-08,6.53\n",
            "2020-04-09,6.60\n",
            "2020-04-13,6.68\n",
            "2020-04-14,6.75\n",
            "2020-04-15,6.82\n",
            "2020-04-16,6.78\n",
            "2020-04-17,6.85\n",
            "2020-04-20,6.92\n",
            "2020-04-21,6.88\n",
            "2020-04-22,6.95\n",
            "2020-04-23,7.02\n",
            "2020-04-24,7.10\n",
            "2020-04-27,7.18\n",
            "2020-04-28,7.12\n",
            "2020-04-29,7.20\n",
            "2020-04-30,7.28\n",
            "2020-05-01,7.22\n",
            "2020-05-04,7.30\n",
            "2020-05-05,7.38\n",
            "2020-05-06,7.45\n",
            "2020-05-07,7.52\n",
            "2020-05-08,7.60\n",
            "2020-05-11,7.68\n",
            "2020-05-12,7.62\n",
            "2020-05-13,7.55\n",
            "2020-05-14,7.63\n",
            "2020-05-15,7.70\n",
            "2020-05-18,7.78\n",
            "2020-05-19,7.85\n",
            "2020-05-20,7.92\n",
            "2020-05-21,7.88\n",
            "2020-05-22,7.95\n",
            "2020-05-26,8.02\n",
            "2020-05-27,8.10\n",
            "2020-05-28,8.18\n",
            "2020-05-29,8.12\n",
            "```\n",
            "\n",
            "This dataset:\n",
            "1. Starts from the given initial price of $5.70 on 2020-01-01\n",
            "2. Includes the real data points for the first 20 days\n",
            "3. Continues with synthetic data for the remaining 80 trading days\n",
            "4. Shows a general upward trend with realistic daily fluctuations (typically ±1-3%)\n",
            "5. Skips weekends and market holidays (like 2020-01-20 for MLK Day)\n",
            "6. Includes some larger downward movements to simulate market volatility\n",
            "7. Ends with a price around $8.12 after 100 trading days (~42% increase from starting price)\n",
            "\n",
            "The synthetic portion follows typical stock market behavior with alternating up and down days, occasional multi-day trends, and reasonable volatility.\n"
          ]
        }
      ],
      "source": [
        "# Debugging response\n",
        "if response.status_code == 200:\n",
        "    result = response.json()\n",
        "    answer = result['choices'][0]['message']['content']\n",
        "    print(answer)\n",
        "else:\n",
        "    print(f\"Error {response.status_code}:\")\n",
        "    print(response.text)\n"
      ]
    },
    {
      "cell_type": "markdown",
      "metadata": {
        "id": "bjdj3JDpWfpC"
      },
      "source": [
        "## **📃Get CSV from the Response**"
      ]
    },
    {
      "cell_type": "code",
      "execution_count": null,
      "metadata": {
        "colab": {
          "background_save": true
        },
        "id": "FQvqTk-QWfF6",
        "outputId": "861b2477-f7e4-4d98-dfb7-86a7011dcce2"
      },
      "outputs": [
        {
          "data": {
            "application/vnd.google.colaboratory.intrinsic+json": {
              "summary": "{\n  \"name\": \"df_generated\",\n  \"rows\": 104,\n  \"fields\": [\n    {\n      \"column\": \"Date\",\n      \"properties\": {\n        \"dtype\": \"date\",\n        \"min\": \"2020-01-01 00:00:00\",\n        \"max\": \"2020-05-29 00:00:00\",\n        \"num_unique_values\": 104,\n        \"samples\": [\n          \"2020-02-13 00:00:00\",\n          \"2020-04-03 00:00:00\",\n          \"2020-04-02 00:00:00\"\n        ],\n        \"semantic_type\": \"\",\n        \"description\": \"\"\n      }\n    },\n    {\n      \"column\": \"Close\",\n      \"properties\": {\n        \"dtype\": \"number\",\n        \"std\": 0.6228394995467679,\n        \"min\": 5.7,\n        \"max\": 8.18,\n        \"num_unique_values\": 78,\n        \"samples\": [\n          6.75,\n          5.7,\n          6.68\n        ],\n        \"semantic_type\": \"\",\n        \"description\": \"\"\n      }\n    }\n  ]\n}",
              "type": "dataframe",
              "variable_name": "df_generated"
            },
            "text/html": [
              "\n",
              "  <div id=\"df-9a5aa4cb-d391-4e9d-9572-8fd95261e78b\" class=\"colab-df-container\">\n",
              "    <div>\n",
              "<style scoped>\n",
              "    .dataframe tbody tr th:only-of-type {\n",
              "        vertical-align: middle;\n",
              "    }\n",
              "\n",
              "    .dataframe tbody tr th {\n",
              "        vertical-align: top;\n",
              "    }\n",
              "\n",
              "    .dataframe thead th {\n",
              "        text-align: right;\n",
              "    }\n",
              "</style>\n",
              "<table border=\"1\" class=\"dataframe\">\n",
              "  <thead>\n",
              "    <tr style=\"text-align: right;\">\n",
              "      <th></th>\n",
              "      <th>Date</th>\n",
              "      <th>Close</th>\n",
              "    </tr>\n",
              "  </thead>\n",
              "  <tbody>\n",
              "    <tr>\n",
              "      <th>0</th>\n",
              "      <td>2020-01-01</td>\n",
              "      <td>5.70</td>\n",
              "    </tr>\n",
              "    <tr>\n",
              "      <th>1</th>\n",
              "      <td>2020-01-02</td>\n",
              "      <td>5.97</td>\n",
              "    </tr>\n",
              "    <tr>\n",
              "      <th>2</th>\n",
              "      <td>2020-01-03</td>\n",
              "      <td>5.88</td>\n",
              "    </tr>\n",
              "    <tr>\n",
              "      <th>3</th>\n",
              "      <td>2020-01-06</td>\n",
              "      <td>5.90</td>\n",
              "    </tr>\n",
              "    <tr>\n",
              "      <th>4</th>\n",
              "      <td>2020-01-07</td>\n",
              "      <td>5.97</td>\n",
              "    </tr>\n",
              "    <tr>\n",
              "      <th>...</th>\n",
              "      <td>...</td>\n",
              "      <td>...</td>\n",
              "    </tr>\n",
              "    <tr>\n",
              "      <th>99</th>\n",
              "      <td>2020-05-22</td>\n",
              "      <td>7.95</td>\n",
              "    </tr>\n",
              "    <tr>\n",
              "      <th>100</th>\n",
              "      <td>2020-05-26</td>\n",
              "      <td>8.02</td>\n",
              "    </tr>\n",
              "    <tr>\n",
              "      <th>101</th>\n",
              "      <td>2020-05-27</td>\n",
              "      <td>8.10</td>\n",
              "    </tr>\n",
              "    <tr>\n",
              "      <th>102</th>\n",
              "      <td>2020-05-28</td>\n",
              "      <td>8.18</td>\n",
              "    </tr>\n",
              "    <tr>\n",
              "      <th>103</th>\n",
              "      <td>2020-05-29</td>\n",
              "      <td>8.12</td>\n",
              "    </tr>\n",
              "  </tbody>\n",
              "</table>\n",
              "<p>104 rows × 2 columns</p>\n",
              "</div>\n",
              "    <div class=\"colab-df-buttons\">\n",
              "\n",
              "  <div class=\"colab-df-container\">\n",
              "    <button class=\"colab-df-convert\" onclick=\"convertToInteractive('df-9a5aa4cb-d391-4e9d-9572-8fd95261e78b')\"\n",
              "            title=\"Convert this dataframe to an interactive table.\"\n",
              "            style=\"display:none;\">\n",
              "\n",
              "  <svg xmlns=\"http://www.w3.org/2000/svg\" height=\"24px\" viewBox=\"0 -960 960 960\">\n",
              "    <path d=\"M120-120v-720h720v720H120Zm60-500h600v-160H180v160Zm220 220h160v-160H400v160Zm0 220h160v-160H400v160ZM180-400h160v-160H180v160Zm440 0h160v-160H620v160ZM180-180h160v-160H180v160Zm440 0h160v-160H620v160Z\"/>\n",
              "  </svg>\n",
              "    </button>\n",
              "\n",
              "  <style>\n",
              "    .colab-df-container {\n",
              "      display:flex;\n",
              "      gap: 12px;\n",
              "    }\n",
              "\n",
              "    .colab-df-convert {\n",
              "      background-color: #E8F0FE;\n",
              "      border: none;\n",
              "      border-radius: 50%;\n",
              "      cursor: pointer;\n",
              "      display: none;\n",
              "      fill: #1967D2;\n",
              "      height: 32px;\n",
              "      padding: 0 0 0 0;\n",
              "      width: 32px;\n",
              "    }\n",
              "\n",
              "    .colab-df-convert:hover {\n",
              "      background-color: #E2EBFA;\n",
              "      box-shadow: 0px 1px 2px rgba(60, 64, 67, 0.3), 0px 1px 3px 1px rgba(60, 64, 67, 0.15);\n",
              "      fill: #174EA6;\n",
              "    }\n",
              "\n",
              "    .colab-df-buttons div {\n",
              "      margin-bottom: 4px;\n",
              "    }\n",
              "\n",
              "    [theme=dark] .colab-df-convert {\n",
              "      background-color: #3B4455;\n",
              "      fill: #D2E3FC;\n",
              "    }\n",
              "\n",
              "    [theme=dark] .colab-df-convert:hover {\n",
              "      background-color: #434B5C;\n",
              "      box-shadow: 0px 1px 3px 1px rgba(0, 0, 0, 0.15);\n",
              "      filter: drop-shadow(0px 1px 2px rgba(0, 0, 0, 0.3));\n",
              "      fill: #FFFFFF;\n",
              "    }\n",
              "  </style>\n",
              "\n",
              "    <script>\n",
              "      const buttonEl =\n",
              "        document.querySelector('#df-9a5aa4cb-d391-4e9d-9572-8fd95261e78b button.colab-df-convert');\n",
              "      buttonEl.style.display =\n",
              "        google.colab.kernel.accessAllowed ? 'block' : 'none';\n",
              "\n",
              "      async function convertToInteractive(key) {\n",
              "        const element = document.querySelector('#df-9a5aa4cb-d391-4e9d-9572-8fd95261e78b');\n",
              "        const dataTable =\n",
              "          await google.colab.kernel.invokeFunction('convertToInteractive',\n",
              "                                                    [key], {});\n",
              "        if (!dataTable) return;\n",
              "\n",
              "        const docLinkHtml = 'Like what you see? Visit the ' +\n",
              "          '<a target=\"_blank\" href=https://colab.research.google.com/notebooks/data_table.ipynb>data table notebook</a>'\n",
              "          + ' to learn more about interactive tables.';\n",
              "        element.innerHTML = '';\n",
              "        dataTable['output_type'] = 'display_data';\n",
              "        await google.colab.output.renderOutput(dataTable, element);\n",
              "        const docLink = document.createElement('div');\n",
              "        docLink.innerHTML = docLinkHtml;\n",
              "        element.appendChild(docLink);\n",
              "      }\n",
              "    </script>\n",
              "  </div>\n",
              "\n",
              "\n",
              "    <div id=\"df-1e709f45-c0ea-4272-a904-b06bed5e3d66\">\n",
              "      <button class=\"colab-df-quickchart\" onclick=\"quickchart('df-1e709f45-c0ea-4272-a904-b06bed5e3d66')\"\n",
              "                title=\"Suggest charts\"\n",
              "                style=\"display:none;\">\n",
              "\n",
              "<svg xmlns=\"http://www.w3.org/2000/svg\" height=\"24px\"viewBox=\"0 0 24 24\"\n",
              "     width=\"24px\">\n",
              "    <g>\n",
              "        <path d=\"M19 3H5c-1.1 0-2 .9-2 2v14c0 1.1.9 2 2 2h14c1.1 0 2-.9 2-2V5c0-1.1-.9-2-2-2zM9 17H7v-7h2v7zm4 0h-2V7h2v10zm4 0h-2v-4h2v4z\"/>\n",
              "    </g>\n",
              "</svg>\n",
              "      </button>\n",
              "\n",
              "<style>\n",
              "  .colab-df-quickchart {\n",
              "      --bg-color: #E8F0FE;\n",
              "      --fill-color: #1967D2;\n",
              "      --hover-bg-color: #E2EBFA;\n",
              "      --hover-fill-color: #174EA6;\n",
              "      --disabled-fill-color: #AAA;\n",
              "      --disabled-bg-color: #DDD;\n",
              "  }\n",
              "\n",
              "  [theme=dark] .colab-df-quickchart {\n",
              "      --bg-color: #3B4455;\n",
              "      --fill-color: #D2E3FC;\n",
              "      --hover-bg-color: #434B5C;\n",
              "      --hover-fill-color: #FFFFFF;\n",
              "      --disabled-bg-color: #3B4455;\n",
              "      --disabled-fill-color: #666;\n",
              "  }\n",
              "\n",
              "  .colab-df-quickchart {\n",
              "    background-color: var(--bg-color);\n",
              "    border: none;\n",
              "    border-radius: 50%;\n",
              "    cursor: pointer;\n",
              "    display: none;\n",
              "    fill: var(--fill-color);\n",
              "    height: 32px;\n",
              "    padding: 0;\n",
              "    width: 32px;\n",
              "  }\n",
              "\n",
              "  .colab-df-quickchart:hover {\n",
              "    background-color: var(--hover-bg-color);\n",
              "    box-shadow: 0 1px 2px rgba(60, 64, 67, 0.3), 0 1px 3px 1px rgba(60, 64, 67, 0.15);\n",
              "    fill: var(--button-hover-fill-color);\n",
              "  }\n",
              "\n",
              "  .colab-df-quickchart-complete:disabled,\n",
              "  .colab-df-quickchart-complete:disabled:hover {\n",
              "    background-color: var(--disabled-bg-color);\n",
              "    fill: var(--disabled-fill-color);\n",
              "    box-shadow: none;\n",
              "  }\n",
              "\n",
              "  .colab-df-spinner {\n",
              "    border: 2px solid var(--fill-color);\n",
              "    border-color: transparent;\n",
              "    border-bottom-color: var(--fill-color);\n",
              "    animation:\n",
              "      spin 1s steps(1) infinite;\n",
              "  }\n",
              "\n",
              "  @keyframes spin {\n",
              "    0% {\n",
              "      border-color: transparent;\n",
              "      border-bottom-color: var(--fill-color);\n",
              "      border-left-color: var(--fill-color);\n",
              "    }\n",
              "    20% {\n",
              "      border-color: transparent;\n",
              "      border-left-color: var(--fill-color);\n",
              "      border-top-color: var(--fill-color);\n",
              "    }\n",
              "    30% {\n",
              "      border-color: transparent;\n",
              "      border-left-color: var(--fill-color);\n",
              "      border-top-color: var(--fill-color);\n",
              "      border-right-color: var(--fill-color);\n",
              "    }\n",
              "    40% {\n",
              "      border-color: transparent;\n",
              "      border-right-color: var(--fill-color);\n",
              "      border-top-color: var(--fill-color);\n",
              "    }\n",
              "    60% {\n",
              "      border-color: transparent;\n",
              "      border-right-color: var(--fill-color);\n",
              "    }\n",
              "    80% {\n",
              "      border-color: transparent;\n",
              "      border-right-color: var(--fill-color);\n",
              "      border-bottom-color: var(--fill-color);\n",
              "    }\n",
              "    90% {\n",
              "      border-color: transparent;\n",
              "      border-bottom-color: var(--fill-color);\n",
              "    }\n",
              "  }\n",
              "</style>\n",
              "\n",
              "      <script>\n",
              "        async function quickchart(key) {\n",
              "          const quickchartButtonEl =\n",
              "            document.querySelector('#' + key + ' button');\n",
              "          quickchartButtonEl.disabled = true;  // To prevent multiple clicks.\n",
              "          quickchartButtonEl.classList.add('colab-df-spinner');\n",
              "          try {\n",
              "            const charts = await google.colab.kernel.invokeFunction(\n",
              "                'suggestCharts', [key], {});\n",
              "          } catch (error) {\n",
              "            console.error('Error during call to suggestCharts:', error);\n",
              "          }\n",
              "          quickchartButtonEl.classList.remove('colab-df-spinner');\n",
              "          quickchartButtonEl.classList.add('colab-df-quickchart-complete');\n",
              "        }\n",
              "        (() => {\n",
              "          let quickchartButtonEl =\n",
              "            document.querySelector('#df-1e709f45-c0ea-4272-a904-b06bed5e3d66 button');\n",
              "          quickchartButtonEl.style.display =\n",
              "            google.colab.kernel.accessAllowed ? 'block' : 'none';\n",
              "        })();\n",
              "      </script>\n",
              "    </div>\n",
              "\n",
              "  <div id=\"id_d9a76552-bd11-4af5-91ac-d05a93787d73\">\n",
              "    <style>\n",
              "      .colab-df-generate {\n",
              "        background-color: #E8F0FE;\n",
              "        border: none;\n",
              "        border-radius: 50%;\n",
              "        cursor: pointer;\n",
              "        display: none;\n",
              "        fill: #1967D2;\n",
              "        height: 32px;\n",
              "        padding: 0 0 0 0;\n",
              "        width: 32px;\n",
              "      }\n",
              "\n",
              "      .colab-df-generate:hover {\n",
              "        background-color: #E2EBFA;\n",
              "        box-shadow: 0px 1px 2px rgba(60, 64, 67, 0.3), 0px 1px 3px 1px rgba(60, 64, 67, 0.15);\n",
              "        fill: #174EA6;\n",
              "      }\n",
              "\n",
              "      [theme=dark] .colab-df-generate {\n",
              "        background-color: #3B4455;\n",
              "        fill: #D2E3FC;\n",
              "      }\n",
              "\n",
              "      [theme=dark] .colab-df-generate:hover {\n",
              "        background-color: #434B5C;\n",
              "        box-shadow: 0px 1px 3px 1px rgba(0, 0, 0, 0.15);\n",
              "        filter: drop-shadow(0px 1px 2px rgba(0, 0, 0, 0.3));\n",
              "        fill: #FFFFFF;\n",
              "      }\n",
              "    </style>\n",
              "    <button class=\"colab-df-generate\" onclick=\"generateWithVariable('df_generated')\"\n",
              "            title=\"Generate code using this dataframe.\"\n",
              "            style=\"display:none;\">\n",
              "\n",
              "  <svg xmlns=\"http://www.w3.org/2000/svg\" height=\"24px\"viewBox=\"0 0 24 24\"\n",
              "       width=\"24px\">\n",
              "    <path d=\"M7,19H8.4L18.45,9,17,7.55,7,17.6ZM5,21V16.75L18.45,3.32a2,2,0,0,1,2.83,0l1.4,1.43a1.91,1.91,0,0,1,.58,1.4,1.91,1.91,0,0,1-.58,1.4L9.25,21ZM18.45,9,17,7.55Zm-12,3A5.31,5.31,0,0,0,4.9,8.1,5.31,5.31,0,0,0,1,6.5,5.31,5.31,0,0,0,4.9,4.9,5.31,5.31,0,0,0,6.5,1,5.31,5.31,0,0,0,8.1,4.9,5.31,5.31,0,0,0,12,6.5,5.46,5.46,0,0,0,6.5,12Z\"/>\n",
              "  </svg>\n",
              "    </button>\n",
              "    <script>\n",
              "      (() => {\n",
              "      const buttonEl =\n",
              "        document.querySelector('#id_d9a76552-bd11-4af5-91ac-d05a93787d73 button.colab-df-generate');\n",
              "      buttonEl.style.display =\n",
              "        google.colab.kernel.accessAllowed ? 'block' : 'none';\n",
              "\n",
              "      buttonEl.onclick = () => {\n",
              "        google.colab.notebook.generateWithVariable('df_generated');\n",
              "      }\n",
              "      })();\n",
              "    </script>\n",
              "  </div>\n",
              "\n",
              "    </div>\n",
              "  </div>\n"
            ],
            "text/plain": [
              "          Date  Close\n",
              "0   2020-01-01   5.70\n",
              "1   2020-01-02   5.97\n",
              "2   2020-01-03   5.88\n",
              "3   2020-01-06   5.90\n",
              "4   2020-01-07   5.97\n",
              "..         ...    ...\n",
              "99  2020-05-22   7.95\n",
              "100 2020-05-26   8.02\n",
              "101 2020-05-27   8.10\n",
              "102 2020-05-28   8.18\n",
              "103 2020-05-29   8.12\n",
              "\n",
              "[104 rows x 2 columns]"
            ]
          },
          "execution_count": 4,
          "metadata": {},
          "output_type": "execute_result"
        }
      ],
      "source": [
        "import re\n",
        "import pandas as pd\n",
        "import matplotlib.pyplot as plt\n",
        "from io import StringIO\n",
        "\n",
        "csv_text = \"\"\n",
        "\n",
        "if response.status_code == 200:\n",
        "    content = response.json()[\"choices\"][0][\"message\"][\"content\"]\n",
        "    # Extract the CSV content inside triple backticks ```csv ... ```\n",
        "    match = re.search(r\"```csv\\s+(.*?)```\", content, re.DOTALL)\n",
        "    if match:\n",
        "        csv_text = match.group(1).strip()\n",
        "        # print(csv_text)\n",
        "\n",
        "    else:\n",
        "        print(\"CSV block not found.\")\n",
        "else:\n",
        "    print(f\"Error {response.status_code}:\")\n",
        "    print(response.text)\n",
        "\n",
        "\n",
        "df_generated = pd.read_csv(StringIO(csv_text))\n",
        "df_generated['Date'] = pd.to_datetime(df_generated['Date'])\n",
        "df_generated"
      ]
    },
    {
      "cell_type": "markdown",
      "metadata": {
        "id": "pEQmrQ2ZeuOr"
      },
      "source": [
        "## **📉 Data Visualization**"
      ]
    },
    {
      "cell_type": "code",
      "execution_count": null,
      "metadata": {
        "colab": {
          "background_save": true
        },
        "id": "R21fxpnzet1w",
        "outputId": "beb1a59b-f2cc-41d1-8c96-3afb83aa6585"
      },
      "outputs": [
        {
          "data": {
            "image/png": "[encoded data removed]",
            "text/plain": [
              "<Figure size 1000x500 with 1 Axes>"
            ]
          },
          "metadata": {},
          "output_type": "display_data"
        }
      ],
      "source": [
        "# Plot\n",
        "plt.figure(figsize=(10, 5))\n",
        "plt.plot(df_generated['Date'], df_generated['Close'])\n",
        "plt.title(\"Synthetic NVIDIA Daily Close Price\")\n",
        "plt.xlabel(\"Date\")\n",
        "plt.ylabel(\"Close\")\n",
        "plt.grid(True)\n",
        "plt.xticks(rotation=45)\n",
        "plt.tight_layout()\n",
        "plt.show()"
      ]
    },
    {
      "cell_type": "markdown",
      "metadata": {
        "id": "uesRUYvG4oxL"
      },
      "source": [
        "## **🌍 Compare with real data**"
      ]
    },
    {
      "cell_type": "markdown",
      "metadata": {
        "id": "neR8CifR56gy"
      },
      "source": [
        "### **💾 Connect to Google Drive**"
      ]
    },
    {
      "cell_type": "code",
      "execution_count": null,
      "metadata": {
        "colab": {
          "background_save": true
        },
        "id": "3A0Jkp0D6GNH",
        "outputId": "46e4b38b-6b4f-4d52-f8eb-e57e236f92c1"
      },
      "outputs": [
        {
          "ename": "ValueError",
          "evalue": "mount failed",
          "output_type": "error",
          "traceback": [
            "\u001b[0;31m---------------------------------------------------------------------------\u001b[0m",
            "\u001b[0;31mValueError\u001b[0m                                Traceback (most recent call last)",
            "\u001b[0;32m<ipython-input-6-d5df0069828e>\u001b[0m in \u001b[0;36m<cell line: 0>\u001b[0;34m()\u001b[0m\n\u001b[1;32m      1\u001b[0m \u001b[0;32mfrom\u001b[0m \u001b[0mgoogle\u001b[0m\u001b[0;34m.\u001b[0m\u001b[0mcolab\u001b[0m \u001b[0;32mimport\u001b[0m \u001b[0mdrive\u001b[0m\u001b[0;34m\u001b[0m\u001b[0;34m\u001b[0m\u001b[0m\n\u001b[0;32m----> 2\u001b[0;31m \u001b[0mdrive\u001b[0m\u001b[0;34m.\u001b[0m\u001b[0mmount\u001b[0m\u001b[0;34m(\u001b[0m\u001b[0;34m'/content/drive'\u001b[0m\u001b[0;34m)\u001b[0m\u001b[0;34m\u001b[0m\u001b[0;34m\u001b[0m\u001b[0m\n\u001b[0m",
            "\u001b[0;32m/usr/local/lib/python3.11/dist-packages/google/colab/drive.py\u001b[0m in \u001b[0;36mmount\u001b[0;34m(mountpoint, force_remount, timeout_ms, readonly)\u001b[0m\n\u001b[1;32m     98\u001b[0m \u001b[0;32mdef\u001b[0m \u001b[0mmount\u001b[0m\u001b[0;34m(\u001b[0m\u001b[0mmountpoint\u001b[0m\u001b[0;34m,\u001b[0m \u001b[0mforce_remount\u001b[0m\u001b[0;34m=\u001b[0m\u001b[0;32mFalse\u001b[0m\u001b[0;34m,\u001b[0m \u001b[0mtimeout_ms\u001b[0m\u001b[0;34m=\u001b[0m\u001b[0;36m120000\u001b[0m\u001b[0;34m,\u001b[0m \u001b[0mreadonly\u001b[0m\u001b[0;34m=\u001b[0m\u001b[0;32mFalse\u001b[0m\u001b[0;34m)\u001b[0m\u001b[0;34m:\u001b[0m\u001b[0;34m\u001b[0m\u001b[0;34m\u001b[0m\u001b[0m\n\u001b[1;32m     99\u001b[0m   \u001b[0;34m\"\"\"Mount your Google Drive at the specified mountpoint path.\"\"\"\u001b[0m\u001b[0;34m\u001b[0m\u001b[0;34m\u001b[0m\u001b[0m\n\u001b[0;32m--> 100\u001b[0;31m   return _mount(\n\u001b[0m\u001b[1;32m    101\u001b[0m       \u001b[0mmountpoint\u001b[0m\u001b[0;34m,\u001b[0m\u001b[0;34m\u001b[0m\u001b[0;34m\u001b[0m\u001b[0m\n\u001b[1;32m    102\u001b[0m       \u001b[0mforce_remount\u001b[0m\u001b[0;34m=\u001b[0m\u001b[0mforce_remount\u001b[0m\u001b[0;34m,\u001b[0m\u001b[0;34m\u001b[0m\u001b[0;34m\u001b[0m\u001b[0m\n",
            "\u001b[0;32m/usr/local/lib/python3.11/dist-packages/google/colab/drive.py\u001b[0m in \u001b[0;36m_mount\u001b[0;34m(mountpoint, force_remount, timeout_ms, ephemeral, readonly)\u001b[0m\n\u001b[1;32m    277\u001b[0m             \u001b[0;34m'https://research.google.com/colaboratory/faq.html#drive-timeout'\u001b[0m\u001b[0;34m\u001b[0m\u001b[0;34m\u001b[0m\u001b[0m\n\u001b[1;32m    278\u001b[0m         )\n\u001b[0;32m--> 279\u001b[0;31m       \u001b[0;32mraise\u001b[0m \u001b[0mValueError\u001b[0m\u001b[0;34m(\u001b[0m\u001b[0;34m'mount failed'\u001b[0m \u001b[0;34m+\u001b[0m \u001b[0mextra_reason\u001b[0m\u001b[0;34m)\u001b[0m\u001b[0;34m\u001b[0m\u001b[0;34m\u001b[0m\u001b[0m\n\u001b[0m\u001b[1;32m    280\u001b[0m     \u001b[0;32melif\u001b[0m \u001b[0mcase\u001b[0m \u001b[0;34m==\u001b[0m \u001b[0;36m4\u001b[0m\u001b[0;34m:\u001b[0m\u001b[0;34m\u001b[0m\u001b[0;34m\u001b[0m\u001b[0m\n\u001b[1;32m    281\u001b[0m       \u001b[0;31m# Terminate the DriveFS binary before killing bash.\u001b[0m\u001b[0;34m\u001b[0m\u001b[0;34m\u001b[0m\u001b[0m\n",
            "\u001b[0;31mValueError\u001b[0m: mount failed"
          ]
        }
      ],
      "source": [
        "from google.colab import drive\n",
        "drive.mount('/content/drive')"
      ]
    },
    {
      "cell_type": "markdown",
      "metadata": {
        "id": "S34cBG9D6krY"
      },
      "source": [
        "### **🌍 Load Real Data**"
      ]
    },
    {
      "cell_type": "code",
      "execution_count": null,
      "metadata": {
        "colab": {
          "background_save": true
        },
        "id": "n2r4vX_56vfC"
      },
      "outputs": [],
      "source": [
        "import pandas as pd\n",
        "\n",
        "# Load the data\n",
        "file_path = \"/content/drive/MyDrive/Colab Notebooks/thesis/nvidia_2020_2021.csv\"\n",
        "df_nvda = pd.read_csv(file_path, skiprows=[1, 2], header=0)\n",
        "df_nvda.columns = [\"Date\", \"Open\", \"High\", \"Low\", \"Close\", \"Volume\"]\n",
        "\n",
        "number_of_rows = 100\n",
        "\n",
        "# Display the first x rows\n",
        "print(df_nvda.head(number_of_rows))"
      ]
    },
    {
      "cell_type": "code",
      "execution_count": null,
      "metadata": {
        "colab": {
          "background_save": true
        },
        "id": "dkJXDw0a63eK"
      },
      "outputs": [],
      "source": [
        "\n",
        "df_real = df_nvda.head(number_of_rows)\n",
        "df_real['Date'] = pd.to_datetime(df_real['Date'])\n",
        "df_real = df_real[(df_real['Date'].dt.year == 2020)]\n",
        "df_real = df_real.head(100)\n",
        "df_real.head()\n"
      ]
    },
    {
      "cell_type": "code",
      "execution_count": null,
      "metadata": {
        "colab": {
          "background_save": true
        },
        "id": "z1hFbDMO7Bo2"
      },
      "outputs": [],
      "source": [
        "# Plot\n",
        "plt.figure(figsize=(10, 5))\n",
        "plt.plot(df_generated['Date'], df_generated['Close'], label='Synthetic')\n",
        "plt.plot(df_real['Date'], df_real['Close'], linestyle=\"--\", label='Real')\n",
        "plt.title(\"Synthetic NVIDIA Daily Close Price\")\n",
        "plt.xlabel(\"Date\")\n",
        "plt.ylabel(\"Close\")\n",
        "plt.grid(True)\n",
        "plt.xticks(rotation=45)\n",
        "plt.tight_layout()\n",
        "\n",
        "\n",
        "# Add legend\n",
        "plt.legend()\n",
        "plt.show()\n",
        "\n"
      ]
    }
  ],
  "metadata": {
    "colab": {
      "provenance": [],
      "authorship_tag": "ABX9TyNzHZuMZ9/5KFb/wxi6w5bQ",
      "include_colab_link": true
    },
    "kernelspec": {
      "display_name": "Python 3",
      "name": "python3"
    },
    "language_info": {
      "name": "python"
    }
  },
  "nbformat": 4,
  "nbformat_minor": 0
}